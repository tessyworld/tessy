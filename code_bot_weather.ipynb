{
  "nbformat": 4,
  "nbformat_minor": 0,
  "metadata": {
    "colab": {
      "provenance": [],
      "authorship_tag": "ABX9TyNkYHhX7gy651mswSzTUIg9",
      "include_colab_link": true
    },
    "kernelspec": {
      "name": "python3",
      "display_name": "Python 3"
    },
    "language_info": {
      "name": "python"
    }
  },
  "cells": [
    {
      "cell_type": "markdown",
      "metadata": {
        "id": "view-in-github",
        "colab_type": "text"
      },
      "source": [
        "<a href=\"https://colab.research.google.com/github/tessyworld/tessy/blob/main/code_bot_weather.ipynb\" target=\"_parent\"><img src=\"https://colab.research.google.com/assets/colab-badge.svg\" alt=\"Open In Colab\"/></a>"
      ]
    },
    {
      "cell_type": "markdown",
      "source": [],
      "metadata": {
        "id": "2KPlLxG6gohv"
      }
    },
    {
      "cell_type": "code",
      "source": [
        "import logging\n",
        "import os\n",
        "\n",
        "import requests\n",
        "import telegram\n",
        "from telegram.ext import CommandHandler, Filters, MessageHandler, Updater\n",
        "\n",
        "# Configura il logging\n",
        "logging.basicConfig(format='%(asctime)s - %(name)s - %(levelname)s - %(message)s', level=logging.INFO)\n",
        "logger = logging.getLogger(__name__)\n",
        "\n",
        "# Imposta il token del tuo bot su Telegram\n",
        "TOKEN = os.environ.get('BOT_TOKEN')\n",
        "\n",
        "# Crea un'istanza del bot\n",
        "bot = telegram.Bot(token=TOKEN)\n",
        "\n",
        "# Funzione per gestire il comando /start\n",
        "def start(update, context):\n",
        "    context.bot.send_message(chat_id=update.message.chat_id, text=\"Ciao! Sono il bot del meteo. Usa il comando /weather <città> per ottenere le informazioni sul meteo.\")\n",
        "\n",
        "# Funzione per gestire il comando /weather\n",
        "def weather(update, context):\n",
        "    city = context.args[0]\n",
        "    api_key = os.environ.get('OPENWEATHERMAP_API_KEY')\n",
        "    url = f'https://api.openweathermap.org/data/2.5/weather?q={city}&appid={api_key}&units=metric'\n",
        "\n",
        "    response = requests.get(url)\n",
        "\n",
        "    if response.status_code == 200:\n",
        "        data = response.json()\n",
        "        temperature = data['main']['temp']\n",
        "        description = data['weather'][0]['description']\n",
        "        humidity = data['main']['humidity']\n",
        "        wind_speed = data['wind']['speed']\n",
        "\n",
        "        text = f\"<b>Informazioni meteo per {city}</b>\\n\\n\" \\\n",
        "               f\"<b>Temperatura:</b> {temperature}°C\\n\" \\\n",
        "               f\"<b>Descrizione:</b> {description}\\n\" \\\n",
        "               f\"<b>Umidità:</b> {humidity}%\\n\" \\\n",
        "               f\"<b>Velocità del vento:</b> {wind_speed} km/h\"\n",
        "\n",
        "        context.bot.send_message(chat_id=update.message.chat_id, text=text, parse_mode=telegram.ParseMode.HTML)\n",
        "    else:\n",
        "        context.bot.send_message(chat_id=update.message.chat_id, text=\"Spiacenti, non è stato possibile ottenere le informazioni sul meteo.\")\n",
        "\n",
        "# Funzione per gestire i messaggi che non corrispondono a nessun comando\n",
        "def echo(update, context):\n",
        "    context.bot.send_message(chat_id=update.message.chat_id, text=\"Spiacente, non ho capito il tuo messaggio. Usa il comando /help per vedere la lista dei comandi disponibili.\")\n",
        "\n",
        "# Crea un'istanza di Updater e registra i gestori di comando e di messaggio\n",
        "updater = Updater(token=TOKEN, use_context=True)\n",
        "\n",
        "updater.dispatcher.add_handler(CommandHandler('start', start))\n",
        "updater.dispatcher.add_handler(CommandHandler('weather', weather))\n",
        "updater.dispatcher.add_handler(MessageHandler(Filters.text & ~Filters.command, echo))\n",
        "\n",
        "# Avvia il bot\n",
        "updater.start_polling()\n",
        "updater.idle()\n"
      ],
      "metadata": {
        "id": "A2EuMA82k6jF"
      },
      "execution_count": null,
      "outputs": []
    }
  ]
}