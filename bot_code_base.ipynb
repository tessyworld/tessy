{
  "nbformat": 4,
  "nbformat_minor": 0,
  "metadata": {
    "colab": {
      "provenance": [],
      "authorship_tag": "ABX9TyPOl28+uEEx3mX6m/3q+gsL",
      "include_colab_link": true
    },
    "kernelspec": {
      "name": "python3",
      "display_name": "Python 3"
    },
    "language_info": {
      "name": "python"
    }
  },
  "cells": [
    {
      "cell_type": "markdown",
      "metadata": {
        "id": "view-in-github",
        "colab_type": "text"
      },
      "source": [
        "<a href=\"https://colab.research.google.com/github/tessyworld/tessy/blob/main/bot_code_base.ipynb\" target=\"_parent\"><img src=\"https://colab.research.google.com/assets/colab-badge.svg\" alt=\"Open In Colab\"/></a>"
      ]
    },
    {
      "cell_type": "code",
      "source": [
        "import telegram\n",
        "from telegram.ext import CommandHandler, MessageHandler, Filters, Updater\n",
        "\n",
        "# Imposta il token del tuo bot su Telegram\n",
        "TOKEN = 'il_tuo_token'\n",
        "\n",
        "# Crea un'istanza del bot\n",
        "bot = telegram.Bot(token=TOKEN)\n",
        "\n",
        "# Funzione per gestire il comando /start\n",
        "def start(update, context):\n",
        "    context.bot.send_message(chat_id=update.message.chat_id, text=\"Ciao! Sono un bot.\")\n",
        "\n",
        "# Funzione per gestire i messaggi\n",
        "def echo(update, context):\n",
        "    context.bot.send_message(chat_id=update.message.chat_id, text=update.message.text)\n",
        "\n",
        "# Crea un'istanza di Updater e collega le funzioni di gestione\n",
        "updater = Updater(TOKEN, use_context=True)\n",
        "dispatcher = updater.dispatcher\n",
        "dispatcher.add_handler(CommandHandler('start', start))\n",
        "dispatcher.add_handler(MessageHandler(Filters.text, echo))\n",
        "\n",
        "# Avvia il bot\n",
        "updater.start_polling()\n"
      ],
      "metadata": {
        "id": "0l4JUm03gl6g"
      },
      "execution_count": null,
      "outputs": []
    },
    {
      "cell_type": "markdown",
      "source": [],
      "metadata": {
        "id": "2KPlLxG6gohv"
      }
    }
  ]
}