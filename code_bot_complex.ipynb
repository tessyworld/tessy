{
  "nbformat": 4,
  "nbformat_minor": 0,
  "metadata": {
    "colab": {
      "provenance": [],
      "authorship_tag": "ABX9TyMgPhcvuflb3ZOqa1fBwjlj",
      "include_colab_link": true
    },
    "kernelspec": {
      "name": "python3",
      "display_name": "Python 3"
    },
    "language_info": {
      "name": "python"
    }
  },
  "cells": [
    {
      "cell_type": "markdown",
      "metadata": {
        "id": "view-in-github",
        "colab_type": "text"
      },
      "source": [
        "<a href=\"https://colab.research.google.com/github/tessyworld/tessy/blob/main/code_bot_complex.ipynb\" target=\"_parent\"><img src=\"https://colab.research.google.com/assets/colab-badge.svg\" alt=\"Open In Colab\"/></a>"
      ]
    },
    {
      "cell_type": "markdown",
      "source": [],
      "metadata": {
        "id": "2KPlLxG6gohv"
      }
    },
    {
      "cell_type": "code",
      "source": [
        "import logging\n",
        "import os\n",
        "import sqlite3\n",
        "\n",
        "from telegram import InlineKeyboardButton, InlineKeyboardMarkup, ParseMode\n",
        "from telegram.ext import CommandHandler, ConversationHandler, Filters, MessageHandler, Updater\n",
        "\n",
        "# Configura il logging\n",
        "logging.basicConfig(format='%(asctime)s - %(name)s - %(levelname)s - %(message)s', level=logging.INFO)\n",
        "logger = logging.getLogger(__name__)\n",
        "\n",
        "# Costanti per il ConversationHandler\n",
        "GENDER, AGE, EMAIL, END = range(4)\n",
        "\n",
        "# Imposta il token del tuo bot su Telegram\n",
        "TOKEN = os.environ.get('BOT_TOKEN')\n",
        "\n",
        "# Crea un'istanza del bot\n",
        "bot = telegram.Bot(token=TOKEN)\n",
        "\n",
        "# Funzione per gestire il comando /start\n",
        "def start(update, context):\n",
        "    user_id = update.message.from_user.id\n",
        "    first_name = update.message.from_user.first_name\n",
        "    last_name = update.message.from_user.last_name\n",
        "    username = update.message.from_user.username\n",
        "\n",
        "    # Salva le informazioni dell'utente nel database\n",
        "    conn = sqlite3.connect('users.db')\n",
        "    c = conn.cursor()\n",
        "    c.execute(\"INSERT INTO users (user_id, first_name, last_name, username) VALUES (?, ?, ?, ?)\",\n",
        "              (user_id, first_name, last_name, username))\n",
        "    conn.commit()\n",
        "    conn.close()\n",
        "\n",
        "    context.bot.send_message(chat_id=update.message.chat_id, text=\"Ciao! Benvenuto nel mio bot.\")\n",
        "\n",
        "# Funzione per gestire il comando /help\n",
        "def help(update, context):\n",
        "    context.bot.send_message(chat_id=update.message.chat_id, text=\"Ecco la lista dei comandi disponibili:\\n\\n\"\n",
        "                                                                \"/start - Inizia a usare il bot\\n\"\n",
        "                                                                \"/profile - Mostra il tuo profilo\\n\"\n",
        "                                                                \"/register - Registra il tuo account\")\n",
        "\n",
        "# Funzione per gestire il comando /profile\n",
        "def profile(update, context):\n",
        "    user_id = update.message.from_user.id\n",
        "\n",
        "    # Cerca le informazioni dell'utente nel database\n",
        "    conn = sqlite3.connect('users.db')\n",
        "    c = conn.cursor()\n",
        "    c.execute(\"SELECT * FROM users WHERE user_id=?\", (user_id,))\n",
        "    user = c.fetchone()\n",
        "    conn.close()\n",
        "\n",
        "    if user:\n",
        "        text = f\"<b>Profilo di {user[1]}</b>\\n\\n\" \\\n",
        "               f\"<b>ID utente:</b> {user[0]}\\n\" \\\n",
        "               f\"<b>Nome:</b> {user[1]}\\n\" \\\n",
        "               f\"<b>Cognome:</b> {user[2]}\\n\" \\\n",
        "               f\"<b>Username:</b> @{user[3]}\"\n",
        "    else:\n",
        "        text = \"Non hai ancora registrato il tuo account. Usa il comando /register per farlo.\"\n",
        "\n",
        "    context.bot.send_message(chat_id=update.message.chat_id, text=text, parse_mode=ParseMode.HTML)\n",
        "\n",
        "# Funzione per gestire il comando /register\n",
        "def register_start(update, context):\n",
        "    context.bot.send_message(chat_id=update.message.chat_id,\n",
        "                             text=\"Per registrare il tuo account, per favore rispondi a queste domande:\\n\\n\"\n",
        "                                  \"Qual è il tuo genere? (M/F/Altro)\")\n",
        "\n",
        "    return GENDER\n",
        "\n",
        "def register_gender(update, context):\n",
        "    user_id = update.message.from_user.id\n",
        "    gender = update.message.text\n",
        "\n",
        "    # Salva il genere dell'utente nel database\n"
      ],
      "metadata": {
        "id": "Kmly272-ioww"
      },
      "execution_count": null,
      "outputs": []
    }
  ]
}